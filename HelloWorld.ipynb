{
  "nbformat": 4,
  "nbformat_minor": 0,
  "metadata": {
    "colab": {
      "provenance": [],
      "authorship_tag": "ABX9TyMgswsRvtt/5tQAGvM7s7pp",
      "include_colab_link": true
    },
    "kernelspec": {
      "name": "python3",
      "display_name": "Python 3"
    },
    "language_info": {
      "name": "python"
    }
  },
  "cells": [
    {
      "cell_type": "markdown",
      "metadata": {
        "id": "view-in-github",
        "colab_type": "text"
      },
      "source": [
        "<a href=\"https://colab.research.google.com/github/tizenegy/dataWrangling/blob/main/HelloWorld.ipynb\" target=\"_parent\"><img src=\"https://colab.research.google.com/assets/colab-badge.svg\" alt=\"Open In Colab\"/></a>"
      ]
    },
    {
      "cell_type": "markdown",
      "source": [
        "Testing the text box.\n",
        "Interesting."
      ],
      "metadata": {
        "id": "7Xn7gmk3_W9L"
      }
    },
    {
      "cell_type": "code",
      "execution_count": null,
      "metadata": {
        "colab": {
          "base_uri": "https://localhost:8080/"
        },
        "id": "p3INwmQl8l4v",
        "outputId": "6039ea33-1f44-4050-ae59-9a6fabe403c0"
      },
      "outputs": [
        {
          "output_type": "stream",
          "name": "stdout",
          "text": [
            "John Smith\n",
            "hello John Smith\n"
          ]
        }
      ],
      "source": [
        "msg = \"John Smith\"\n",
        "print(msg)\n",
        "greet_me(msg)"
      ]
    },
    {
      "cell_type": "markdown",
      "source": [
        "adding more stuff\n"
      ],
      "metadata": {
        "id": "tmE0o2DPBqg8"
      }
    },
    {
      "cell_type": "code",
      "source": [
        "print(msg.split())"
      ],
      "metadata": {
        "colab": {
          "base_uri": "https://localhost:8080/"
        },
        "id": "bjk9bSRrE_z7",
        "outputId": "f6d0e85d-3a14-4d30-cd2f-7c1cc60ff9b5"
      },
      "execution_count": null,
      "outputs": [
        {
          "output_type": "stream",
          "name": "stdout",
          "text": [
            "['John', 'Smith']\n"
          ]
        }
      ]
    },
    {
      "cell_type": "code",
      "source": [
        "def greet_me(name):\n",
        "  print(\"hello \"+name)\n",
        "\n",
        "greet_me(msg)"
      ],
      "metadata": {
        "colab": {
          "base_uri": "https://localhost:8080/"
        },
        "id": "EUcePoeluHxu",
        "outputId": "9f15e2d3-e969-4705-a63b-d27c0600663c"
      },
      "execution_count": null,
      "outputs": [
        {
          "output_type": "stream",
          "name": "stdout",
          "text": [
            "hello John Smith\n"
          ]
        }
      ]
    },
    {
      "cell_type": "code",
      "source": [
        "page_counts = [28,32,44,23,56,32,12,34,30]\n",
        "total_pages = 0\n",
        "\n",
        "for a_number in page_counts:\n",
        "  total_pages = total_pages + a_number\n",
        "  print(a_number)\n",
        "\n",
        "print(total_pages)"
      ],
      "metadata": {
        "colab": {
          "base_uri": "https://localhost:8080/"
        },
        "id": "kRhwCx-dwbbj",
        "outputId": "bb343697-c233-4270-b666-edb9a74a0526"
      },
      "execution_count": null,
      "outputs": [
        {
          "output_type": "stream",
          "name": "stdout",
          "text": [
            "28\n",
            "32\n",
            "44\n",
            "23\n",
            "56\n",
            "32\n",
            "12\n",
            "34\n",
            "30\n",
            "291\n"
          ]
        }
      ]
    },
    {
      "cell_type": "code",
      "source": [
        "print(sum(page_counts))"
      ],
      "metadata": {
        "colab": {
          "base_uri": "https://localhost:8080/"
        },
        "id": "RslmCMTYziYC",
        "outputId": "59963085-ad53-434f-9daa-04fbf0f9a0b4"
      },
      "execution_count": null,
      "outputs": [
        {
          "output_type": "stream",
          "name": "stdout",
          "text": [
            "291\n"
          ]
        }
      ]
    },
    {
      "cell_type": "markdown",
      "source": [
        "Example: Citibike data"
      ],
      "metadata": {
        "id": "Pmmd_v-I_Qw2"
      }
    },
    {
      "cell_type": "code",
      "source": [
        "# question: how many citi bike rides each day are taken by subscribers vs customers?\n",
        "# how to answer: choose a single day of rides to examine.\n",
        "# Citi Bike system data found here: https://s3.amazonaws.com/tripdata/index.html\n",
        "# Filename: 202009-citibike-tripdata.csv.zip\n",
        "\n",
        "\n",
        "import csv\n",
        "\n",
        "from google.colab import drive\n",
        "drive.mount('/content/drive')\n",
        "file_path = '/content/drive/MyDrive/Colab Notebooks/JC-202009-citibike-tripdata.csv'\n",
        "\n",
        "source_file = open(file_path, \"r\")\n",
        "\n",
        "citibike_reader = csv.DictReader(source_file)\n",
        "\n",
        "print(citibike_reader.fieldnames)\n",
        "\n"
      ],
      "metadata": {
        "colab": {
          "base_uri": "https://localhost:8080/"
        },
        "id": "NiHbita8_JcE",
        "outputId": "7c2c3764-7719-479c-c966-33e5542a07d9"
      },
      "execution_count": 1,
      "outputs": [
        {
          "output_type": "stream",
          "name": "stdout",
          "text": [
            "Mounted at /content/drive\n",
            "['tripduration', 'starttime', 'stoptime', 'start station id', 'start station name', 'start station latitude', 'start station longitude', 'end station id', 'end station name', 'end station latitude', 'end station longitude', 'bikeid', 'usertype', 'birth year', 'gender']\n"
          ]
        }
      ]
    }
  ]
}